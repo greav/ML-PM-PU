{
 "cells": [
  {
   "cell_type": "code",
   "execution_count": 75,
   "metadata": {},
   "outputs": [],
   "source": [
    "import numpy as np\n",
    "import pandas as pd\n",
    "import string\n",
    "from collections import Counter, defaultdict\n",
    "from IPython.display import clear_output\n",
    "from matplotlib import pyplot as plt"
   ]
  },
  {
   "cell_type": "code",
   "execution_count": 111,
   "metadata": {},
   "outputs": [],
   "source": [
    "def accuracy_score(y_true, y_pred):\n",
    "    return sum(y_true == y_pred) / len(y_true)"
   ]
  },
  {
   "cell_type": "code",
   "execution_count": 3,
   "metadata": {},
   "outputs": [],
   "source": [
    "train_df = pd.read_csv('data/news_train.txt', sep='\\t', header=None, names=['target', 'title', 'content'])\n",
    "test_df = pd.read_csv('data/news_test.txt', sep='\\t', header=None, names=['title', 'content'])"
   ]
  },
  {
   "cell_type": "code",
   "execution_count": 3,
   "metadata": {},
   "outputs": [
    {
     "data": {
      "text/html": [
       "<div>\n",
       "<style scoped>\n",
       "    .dataframe tbody tr th:only-of-type {\n",
       "        vertical-align: middle;\n",
       "    }\n",
       "\n",
       "    .dataframe tbody tr th {\n",
       "        vertical-align: top;\n",
       "    }\n",
       "\n",
       "    .dataframe thead th {\n",
       "        text-align: right;\n",
       "    }\n",
       "</style>\n",
       "<table border=\"1\" class=\"dataframe\">\n",
       "  <thead>\n",
       "    <tr style=\"text-align: right;\">\n",
       "      <th></th>\n",
       "      <th>target</th>\n",
       "      <th>title</th>\n",
       "      <th>content</th>\n",
       "    </tr>\n",
       "  </thead>\n",
       "  <tbody>\n",
       "    <tr>\n",
       "      <th>0</th>\n",
       "      <td>style</td>\n",
       "      <td>Rolex наградит победителей регаты</td>\n",
       "      <td>Парусная гонка Giraglia Rolex Cup пройдет в Ср...</td>\n",
       "    </tr>\n",
       "    <tr>\n",
       "      <th>1</th>\n",
       "      <td>sport</td>\n",
       "      <td>Матс Сундин стал советником тренера сборной Шв...</td>\n",
       "      <td>Шведский хоккеист Матс Сундин назначен советни...</td>\n",
       "    </tr>\n",
       "    <tr>\n",
       "      <th>2</th>\n",
       "      <td>media</td>\n",
       "      <td>Брендом года по версии EFFIE впервые стал город</td>\n",
       "      <td>Гран-при конкурса \"Брэнд года/EFFIE\" получил г...</td>\n",
       "    </tr>\n",
       "    <tr>\n",
       "      <th>3</th>\n",
       "      <td>economics</td>\n",
       "      <td>Цена нефти WTI снизилась после публикации данн...</td>\n",
       "      <td>Цена американской нефти WTI на лондонской бирж...</td>\n",
       "    </tr>\n",
       "    <tr>\n",
       "      <th>4</th>\n",
       "      <td>economics</td>\n",
       "      <td>Сбербанк распродаст другим банкирам миллиардны...</td>\n",
       "      <td>Сбербанк выставил на продажу долги по 21,4 тыс...</td>\n",
       "    </tr>\n",
       "  </tbody>\n",
       "</table>\n",
       "</div>"
      ],
      "text/plain": [
       "      target                                              title  \\\n",
       "0      style                  Rolex наградит победителей регаты   \n",
       "1      sport  Матс Сундин стал советником тренера сборной Шв...   \n",
       "2      media    Брендом года по версии EFFIE впервые стал город   \n",
       "3  economics  Цена нефти WTI снизилась после публикации данн...   \n",
       "4  economics  Сбербанк распродаст другим банкирам миллиардны...   \n",
       "\n",
       "                                             content  \n",
       "0  Парусная гонка Giraglia Rolex Cup пройдет в Ср...  \n",
       "1  Шведский хоккеист Матс Сундин назначен советни...  \n",
       "2  Гран-при конкурса \"Брэнд года/EFFIE\" получил г...  \n",
       "3  Цена американской нефти WTI на лондонской бирж...  \n",
       "4  Сбербанк выставил на продажу долги по 21,4 тыс...  "
      ]
     },
     "execution_count": 3,
     "metadata": {},
     "output_type": "execute_result"
    }
   ],
   "source": [
    "train_df.head()"
   ]
  },
  {
   "cell_type": "code",
   "execution_count": 4,
   "metadata": {},
   "outputs": [
    {
     "data": {
      "text/html": [
       "<div>\n",
       "<style scoped>\n",
       "    .dataframe tbody tr th:only-of-type {\n",
       "        vertical-align: middle;\n",
       "    }\n",
       "\n",
       "    .dataframe tbody tr th {\n",
       "        vertical-align: top;\n",
       "    }\n",
       "\n",
       "    .dataframe thead th {\n",
       "        text-align: right;\n",
       "    }\n",
       "</style>\n",
       "<table border=\"1\" class=\"dataframe\">\n",
       "  <thead>\n",
       "    <tr style=\"text-align: right;\">\n",
       "      <th></th>\n",
       "      <th>title</th>\n",
       "      <th>content</th>\n",
       "    </tr>\n",
       "  </thead>\n",
       "  <tbody>\n",
       "    <tr>\n",
       "      <th>0</th>\n",
       "      <td>В МИД Белоруссии одобрили вынос российского фл...</td>\n",
       "      <td>Белорусский спортсмен, несший на открытии пара...</td>\n",
       "    </tr>\n",
       "    <tr>\n",
       "      <th>1</th>\n",
       "      <td>Про Хана Соло и Бобу Фетта из «Звездных войн» ...</td>\n",
       "      <td>Стало известно, кто именно будет центральными ...</td>\n",
       "    </tr>\n",
       "    <tr>\n",
       "      <th>2</th>\n",
       "      <td>В Рунете началась вирусная ICQ-эпидемия</td>\n",
       "      <td>Тысячи пользователей стали жертвой нового ICQ-...</td>\n",
       "    </tr>\n",
       "    <tr>\n",
       "      <th>3</th>\n",
       "      <td>Шуховскую башню на Оке признали памятником фед...</td>\n",
       "      <td>Башня конструкции инженера Владимира Шухова в ...</td>\n",
       "    </tr>\n",
       "    <tr>\n",
       "      <th>4</th>\n",
       "      <td>Голодец предупредила правительство о последств...</td>\n",
       "      <td>Вице-премьер правительства России Ольга Голоде...</td>\n",
       "    </tr>\n",
       "  </tbody>\n",
       "</table>\n",
       "</div>"
      ],
      "text/plain": [
       "                                               title  \\\n",
       "0  В МИД Белоруссии одобрили вынос российского фл...   \n",
       "1  Про Хана Соло и Бобу Фетта из «Звездных войн» ...   \n",
       "2            В Рунете началась вирусная ICQ-эпидемия   \n",
       "3  Шуховскую башню на Оке признали памятником фед...   \n",
       "4  Голодец предупредила правительство о последств...   \n",
       "\n",
       "                                             content  \n",
       "0  Белорусский спортсмен, несший на открытии пара...  \n",
       "1  Стало известно, кто именно будет центральными ...  \n",
       "2  Тысячи пользователей стали жертвой нового ICQ-...  \n",
       "3  Башня конструкции инженера Владимира Шухова в ...  \n",
       "4  Вице-премьер правительства России Ольга Голоде...  "
      ]
     },
     "execution_count": 4,
     "metadata": {},
     "output_type": "execute_result"
    }
   ],
   "source": [
    "test_df.head()"
   ]
  },
  {
   "cell_type": "code",
   "execution_count": 5,
   "metadata": {},
   "outputs": [
    {
     "data": {
      "text/plain": [
       "((60000, 3), (15000, 2))"
      ]
     },
     "execution_count": 5,
     "metadata": {},
     "output_type": "execute_result"
    }
   ],
   "source": [
    "train_df.shape, test_df.shape"
   ]
  },
  {
   "cell_type": "code",
   "execution_count": 23,
   "metadata": {},
   "outputs": [],
   "source": [
    "def tokenizer(text):\n",
    "    table = str.maketrans(string.punctuation, ' ' * len(string.punctuation))\n",
    "    return text.translate(table).lower().split()"
   ]
  },
  {
   "cell_type": "code",
   "execution_count": 26,
   "metadata": {},
   "outputs": [],
   "source": [
    "train_df['content'] = train_df['content'].apply(tokenizer)"
   ]
  },
  {
   "cell_type": "code",
   "execution_count": 15,
   "metadata": {},
   "outputs": [],
   "source": [
    "def softmax(x):\n",
    "    z = x - max(x)\n",
    "    numerator = np.exp(z)\n",
    "    denominator = np.sum(numerator)\n",
    "    softmax = numerator/denominator\n",
    "    return softmax"
   ]
  },
  {
   "cell_type": "code",
   "execution_count": 91,
   "metadata": {},
   "outputs": [],
   "source": [
    "class LogRegressor():\n",
    "    def __init__(self, classes): \n",
    "        self.__version__ = 'v0.1'\n",
    "        self._classes = classes\n",
    "        self._vocab = {}\n",
    "        self._w = dict([(c, defaultdict(int)) for c in classes])\n",
    "        self._b = dict([(c, 0) for c in classes])\n",
    "        self._word_stats = defaultdict(int)\n",
    "  \n",
    "    \n",
    "    def update_vocab(self, words_list):\n",
    "        for word in words_list:\n",
    "            self._word_stats[word] += 1\n",
    "            if word not in self._vocab:\n",
    "                self._vocab[word] = len(self._vocab)\n",
    "    \n",
    "    def generate_vocab(self, df, column_name):\n",
    "        if column_name not in df.columns:\n",
    "            raise ValueError(\"DataFrame doesnt have '{}' column!\")\n",
    "        df[column_name].map(self.update_vocab)\n",
    "\n",
    "    def fit_sample(self, sample):\n",
    "        sample_id = sample.name\n",
    "        words_list = sample['content']\n",
    "        target = sample['target']\n",
    "        target_idx = np.where(self._classes == target)[0][0]\n",
    "        sample_loss = 0\n",
    "        z = []\n",
    "        \n",
    "        for class_ in self._classes:\n",
    "            z_i = self._b[class_]\n",
    "            for word in words_list:\n",
    "                z_i += self._w[class_][self._vocab[word]] \n",
    "            \n",
    "            z.append(z_i)\n",
    "        \n",
    "        z = np.array(z)\n",
    "\n",
    "        probs = softmax(z)\n",
    "\n",
    "        sample_loss += -np.log(probs[target_idx])         \n",
    "        \n",
    "        for i, class_ in enumerate(self._classes):\n",
    "            y = int(class_ == target)\n",
    "            dLdw =  y - probs[i]\n",
    "            delta = self.learning_rate * dLdw\n",
    "            \n",
    "            for word in words_list:\n",
    "                self._w[class_][self._vocab[word]] -= -delta\n",
    "                \n",
    "            self._b[class_] -= -delta\n",
    "            \n",
    "\n",
    "        if sample_id % self.show_period == 0:\n",
    "            n = sample_id + self.show_period\n",
    "            clear_output(wait=True)\n",
    "            print('LogRegressor {} | {} ({:.2f}%) samples fitted.'.format(\n",
    "                self.__version__,\n",
    "                n, \n",
    "                100 * n / self.total_len))\n",
    "        \n",
    "        return pd.Series({'loss': sample_loss})\n",
    "    \n",
    "  \n",
    "    \n",
    "    \n",
    "    def fit_dataframe(self, df, learning_rate=0.1, tolerance=1e-16, accuracy_level=0.9, lambda_=0.001, gamma=0.01):\n",
    "        \n",
    "        self.total_len = df.shape[0]\n",
    "        self.learning_rate = learning_rate\n",
    "        self.tolerance = tolerance\n",
    "        self.accuracy_level = accuracy_level\n",
    "        self.lambda_ = lambda_\n",
    "        self.gamma = gamma\n",
    "        \n",
    "        self.show_period = self.total_len // 100\n",
    "        self.metrics = df.apply(self.fit_sample, axis=1)\n",
    "        \n",
    "        return self.metrics\n",
    "    \n",
    "    def predict(self, texts):\n",
    "        y = []\n",
    "        for words_list in texts:\n",
    "            z = []\n",
    "            for class_ in self._classes:\n",
    "                z_i = self._b[class_]\n",
    "                for word in words_list:\n",
    "                    z_i += self._w[class_][self._vocab[word]] \n",
    "\n",
    "                z.append(z_i)\n",
    "            probs = softmax(np.array(z))\n",
    "            y.append(self._classes[probs.argmax()])\n",
    "        return y"
   ]
  },
  {
   "cell_type": "code",
   "execution_count": 104,
   "metadata": {},
   "outputs": [],
   "source": [
    "classes = train_df['target'].unique()\n",
    "model = LogRegressor(classes)"
   ]
  },
  {
   "cell_type": "code",
   "execution_count": 105,
   "metadata": {},
   "outputs": [],
   "source": [
    "model.generate_vocab(train_df, 'content')"
   ]
  },
  {
   "cell_type": "code",
   "execution_count": 106,
   "metadata": {
    "scrolled": true
   },
   "outputs": [
    {
     "name": "stdout",
     "output_type": "stream",
     "text": [
      "LogRegressor v0.1 | 50000 (100.00%) samples fitted.\n"
     ]
    }
   ],
   "source": [
    "metrics = model.fit_dataframe(train_df[:50000])"
   ]
  },
  {
   "cell_type": "code",
   "execution_count": 107,
   "metadata": {},
   "outputs": [
    {
     "data": {
      "text/html": [
       "<div>\n",
       "<style scoped>\n",
       "    .dataframe tbody tr th:only-of-type {\n",
       "        vertical-align: middle;\n",
       "    }\n",
       "\n",
       "    .dataframe tbody tr th {\n",
       "        vertical-align: top;\n",
       "    }\n",
       "\n",
       "    .dataframe thead th {\n",
       "        text-align: right;\n",
       "    }\n",
       "</style>\n",
       "<table border=\"1\" class=\"dataframe\">\n",
       "  <thead>\n",
       "    <tr style=\"text-align: right;\">\n",
       "      <th></th>\n",
       "      <th>loss</th>\n",
       "    </tr>\n",
       "  </thead>\n",
       "  <tbody>\n",
       "    <tr>\n",
       "      <th>0</th>\n",
       "      <td>0.000000</td>\n",
       "    </tr>\n",
       "    <tr>\n",
       "      <th>1</th>\n",
       "      <td>21.100000</td>\n",
       "    </tr>\n",
       "    <tr>\n",
       "      <th>2</th>\n",
       "      <td>27.000000</td>\n",
       "    </tr>\n",
       "    <tr>\n",
       "      <th>3</th>\n",
       "      <td>8.441465</td>\n",
       "    </tr>\n",
       "    <tr>\n",
       "      <th>4</th>\n",
       "      <td>0.004787</td>\n",
       "    </tr>\n",
       "  </tbody>\n",
       "</table>\n",
       "</div>"
      ],
      "text/plain": [
       "        loss\n",
       "0   0.000000\n",
       "1  21.100000\n",
       "2  27.000000\n",
       "3   8.441465\n",
       "4   0.004787"
      ]
     },
     "execution_count": 107,
     "metadata": {},
     "output_type": "execute_result"
    }
   ],
   "source": [
    "metrics.head()"
   ]
  },
  {
   "cell_type": "code",
   "execution_count": 108,
   "metadata": {},
   "outputs": [
    {
     "data": {
      "image/png": "[encoded data removed]",
      "text/plain": [
       "<Figure size 432x288 with 1 Axes>"
      ]
     },
     "metadata": {
      "needs_background": "light"
     },
     "output_type": "display_data"
    }
   ],
   "source": [
    "plot = plt.plot(pd.Series(metrics['loss']).rolling(1000).mean())"
   ]
  },
  {
   "cell_type": "code",
   "execution_count": 109,
   "metadata": {},
   "outputs": [],
   "source": [
    "y_pred = model.predict(train_df['content'][50000:])"
   ]
  },
  {
   "cell_type": "code",
   "execution_count": 110,
   "metadata": {},
   "outputs": [],
   "source": [
    "y_true = train_df['target'][50000:]"
   ]
  },
  {
   "cell_type": "code",
   "execution_count": 112,
   "metadata": {},
   "outputs": [
    {
     "data": {
      "text/plain": [
       "0.821"
      ]
     },
     "execution_count": 112,
     "metadata": {},
     "output_type": "execute_result"
    }
   ],
   "source": [
    "accuracy_score(y_true, y_pred)"
   ]
  },
  {
   "cell_type": "code",
   "execution_count": null,
   "metadata": {},
   "outputs": [],
   "source": []
  }
 ],
 "metadata": {
  "kernelspec": {
   "display_name": "Python 3",
   "language": "python",
   "name": "python3"
  },
  "language_info": {
   "codemirror_mode": {
    "name": "ipython",
    "version": 3
   },
   "file_extension": ".py",
   "mimetype": "text/x-python",
   "name": "python",
   "nbconvert_exporter": "python",
   "pygments_lexer": "ipython3",
   "version": "3.7.1"
  }
 },
 "nbformat": 4,
 "nbformat_minor": 2
}
