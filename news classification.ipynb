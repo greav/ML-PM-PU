{
 "cells": [
  {
   "cell_type": "code",
   "execution_count": 1,
   "metadata": {},
   "outputs": [],
   "source": [
    "import numpy as np\n",
    "import pandas as pd\n",
    "import string"
   ]
  },
  {
   "cell_type": "code",
   "execution_count": 2,
   "metadata": {},
   "outputs": [],
   "source": [
    "train_df = pd.read_csv('data/news_train.txt', sep='\\t', header=None, names=['target', 'title', 'content'])\n",
    "test_df = pd.read_csv('data/news_test.txt', sep='\\t', header=None, names=['title', 'content'])"
   ]
  },
  {
   "cell_type": "code",
   "execution_count": 3,
   "metadata": {},
   "outputs": [
    {
     "data": {
      "text/html": [
       "<div>\n",
       "<style scoped>\n",
       "    .dataframe tbody tr th:only-of-type {\n",
       "        vertical-align: middle;\n",
       "    }\n",
       "\n",
       "    .dataframe tbody tr th {\n",
       "        vertical-align: top;\n",
       "    }\n",
       "\n",
       "    .dataframe thead th {\n",
       "        text-align: right;\n",
       "    }\n",
       "</style>\n",
       "<table border=\"1\" class=\"dataframe\">\n",
       "  <thead>\n",
       "    <tr style=\"text-align: right;\">\n",
       "      <th></th>\n",
       "      <th>target</th>\n",
       "      <th>title</th>\n",
       "      <th>content</th>\n",
       "    </tr>\n",
       "  </thead>\n",
       "  <tbody>\n",
       "    <tr>\n",
       "      <th>0</th>\n",
       "      <td>style</td>\n",
       "      <td>Rolex наградит победителей регаты</td>\n",
       "      <td>Парусная гонка Giraglia Rolex Cup пройдет в Ср...</td>\n",
       "    </tr>\n",
       "    <tr>\n",
       "      <th>1</th>\n",
       "      <td>sport</td>\n",
       "      <td>Матс Сундин стал советником тренера сборной Шв...</td>\n",
       "      <td>Шведский хоккеист Матс Сундин назначен советни...</td>\n",
       "    </tr>\n",
       "    <tr>\n",
       "      <th>2</th>\n",
       "      <td>media</td>\n",
       "      <td>Брендом года по версии EFFIE впервые стал город</td>\n",
       "      <td>Гран-при конкурса \"Брэнд года/EFFIE\" получил г...</td>\n",
       "    </tr>\n",
       "    <tr>\n",
       "      <th>3</th>\n",
       "      <td>economics</td>\n",
       "      <td>Цена нефти WTI снизилась после публикации данн...</td>\n",
       "      <td>Цена американской нефти WTI на лондонской бирж...</td>\n",
       "    </tr>\n",
       "    <tr>\n",
       "      <th>4</th>\n",
       "      <td>economics</td>\n",
       "      <td>Сбербанк распродаст другим банкирам миллиардны...</td>\n",
       "      <td>Сбербанк выставил на продажу долги по 21,4 тыс...</td>\n",
       "    </tr>\n",
       "  </tbody>\n",
       "</table>\n",
       "</div>"
      ],
      "text/plain": [
       "      target                                              title  \\\n",
       "0      style                  Rolex наградит победителей регаты   \n",
       "1      sport  Матс Сундин стал советником тренера сборной Шв...   \n",
       "2      media    Брендом года по версии EFFIE впервые стал город   \n",
       "3  economics  Цена нефти WTI снизилась после публикации данн...   \n",
       "4  economics  Сбербанк распродаст другим банкирам миллиардны...   \n",
       "\n",
       "                                             content  \n",
       "0  Парусная гонка Giraglia Rolex Cup пройдет в Ср...  \n",
       "1  Шведский хоккеист Матс Сундин назначен советни...  \n",
       "2  Гран-при конкурса \"Брэнд года/EFFIE\" получил г...  \n",
       "3  Цена американской нефти WTI на лондонской бирж...  \n",
       "4  Сбербанк выставил на продажу долги по 21,4 тыс...  "
      ]
     },
     "execution_count": 3,
     "metadata": {},
     "output_type": "execute_result"
    }
   ],
   "source": [
    "train_df.head()"
   ]
  },
  {
   "cell_type": "code",
   "execution_count": 4,
   "metadata": {},
   "outputs": [
    {
     "data": {
      "text/html": [
       "<div>\n",
       "<style scoped>\n",
       "    .dataframe tbody tr th:only-of-type {\n",
       "        vertical-align: middle;\n",
       "    }\n",
       "\n",
       "    .dataframe tbody tr th {\n",
       "        vertical-align: top;\n",
       "    }\n",
       "\n",
       "    .dataframe thead th {\n",
       "        text-align: right;\n",
       "    }\n",
       "</style>\n",
       "<table border=\"1\" class=\"dataframe\">\n",
       "  <thead>\n",
       "    <tr style=\"text-align: right;\">\n",
       "      <th></th>\n",
       "      <th>title</th>\n",
       "      <th>content</th>\n",
       "    </tr>\n",
       "  </thead>\n",
       "  <tbody>\n",
       "    <tr>\n",
       "      <th>0</th>\n",
       "      <td>В МИД Белоруссии одобрили вынос российского фл...</td>\n",
       "      <td>Белорусский спортсмен, несший на открытии пара...</td>\n",
       "    </tr>\n",
       "    <tr>\n",
       "      <th>1</th>\n",
       "      <td>Про Хана Соло и Бобу Фетта из «Звездных войн» ...</td>\n",
       "      <td>Стало известно, кто именно будет центральными ...</td>\n",
       "    </tr>\n",
       "    <tr>\n",
       "      <th>2</th>\n",
       "      <td>В Рунете началась вирусная ICQ-эпидемия</td>\n",
       "      <td>Тысячи пользователей стали жертвой нового ICQ-...</td>\n",
       "    </tr>\n",
       "    <tr>\n",
       "      <th>3</th>\n",
       "      <td>Шуховскую башню на Оке признали памятником фед...</td>\n",
       "      <td>Башня конструкции инженера Владимира Шухова в ...</td>\n",
       "    </tr>\n",
       "    <tr>\n",
       "      <th>4</th>\n",
       "      <td>Голодец предупредила правительство о последств...</td>\n",
       "      <td>Вице-премьер правительства России Ольга Голоде...</td>\n",
       "    </tr>\n",
       "  </tbody>\n",
       "</table>\n",
       "</div>"
      ],
      "text/plain": [
       "                                               title  \\\n",
       "0  В МИД Белоруссии одобрили вынос российского фл...   \n",
       "1  Про Хана Соло и Бобу Фетта из «Звездных войн» ...   \n",
       "2            В Рунете началась вирусная ICQ-эпидемия   \n",
       "3  Шуховскую башню на Оке признали памятником фед...   \n",
       "4  Голодец предупредила правительство о последств...   \n",
       "\n",
       "                                             content  \n",
       "0  Белорусский спортсмен, несший на открытии пара...  \n",
       "1  Стало известно, кто именно будет центральными ...  \n",
       "2  Тысячи пользователей стали жертвой нового ICQ-...  \n",
       "3  Башня конструкции инженера Владимира Шухова в ...  \n",
       "4  Вице-премьер правительства России Ольга Голоде...  "
      ]
     },
     "execution_count": 4,
     "metadata": {},
     "output_type": "execute_result"
    }
   ],
   "source": [
    "test_df.head()"
   ]
  },
  {
   "cell_type": "code",
   "execution_count": 5,
   "metadata": {},
   "outputs": [
    {
     "data": {
      "text/plain": [
       "((60000, 3), (15000, 2))"
      ]
     },
     "execution_count": 5,
     "metadata": {},
     "output_type": "execute_result"
    }
   ],
   "source": [
    "train_df.shape, test_df.shape"
   ]
  },
  {
   "cell_type": "code",
   "execution_count": 7,
   "metadata": {},
   "outputs": [
    {
     "data": {
      "text/plain": [
       "'Многолетний руководитель корпорации Toyota Motor Эйдзи Тоёда (Eiji Toyoda) скончался в возрасте ста лет от сердечного приступа. Об этом сообщает The Japan Daily Press со ссылкой на пресс-службу японской компании.Эйдзи Тоёда был младшим двоюродным братом основателя автоконцерна Киитиро Тоёды (Kiichiro Toyoda). Эйдзи начал работу в компании в 1936 году, а президентом Toyota Motor стал в 1967 году. Он возглавлял концерн в течение 27 лет — дольше, чем кто-либо до него.В 1982 году Тоёда ушел с поста президента компании, заняв кресло председателя совета директоров Toyota. Эту должность он занимал до 1992 года, а спустя еще два года окончательно покинул компанию.Под руководством Эйдзи Тоёда Toyota существенно нарастила продажи автомобилей за рубежом и активно расширяла свое присутствие на зарубежных рынках. Кроме того, с 1983 года он курировал развитие бренда Lexus, люксовой модели Toyota. Также благодаря Эйдзи Тоёде в Toyota была внедрена система максимального эффективного производства автомобилей, которая впоследствии стала системой Toyota Way.'"
      ]
     },
     "execution_count": 7,
     "metadata": {},
     "output_type": "execute_result"
    }
   ],
   "source": [
    "sentence = train_df.iloc[5, 2]\n",
    "sentence"
   ]
  },
  {
   "cell_type": "code",
   "execution_count": 8,
   "metadata": {},
   "outputs": [
    {
     "data": {
      "text/plain": [
       "'многолетний руководитель корпорации toyota motor эйдзи тоёда  eiji toyoda  скончался в возрасте ста лет от сердечного приступа  об этом сообщает the japan daily press со ссылкой на пресс службу японской компании эйдзи тоёда был младшим двоюродным братом основателя автоконцерна киитиро тоёды  kiichiro toyoda   эйдзи начал работу в компании в 1936 году  а президентом toyota motor стал в 1967 году  он возглавлял концерн в течение 27 лет — дольше  чем кто либо до него в 1982 году тоёда ушел с поста президента компании  заняв кресло председателя совета директоров toyota  эту должность он занимал до 1992 года  а спустя еще два года окончательно покинул компанию под руководством эйдзи тоёда toyota существенно нарастила продажи автомобилей за рубежом и активно расширяла свое присутствие на зарубежных рынках  кроме того  с 1983 года он курировал развитие бренда lexus  люксовой модели toyota  также благодаря эйдзи тоёде в toyota была внедрена система максимального эффективного производства автомобилей  которая впоследствии стала системой toyota way '"
      ]
     },
     "execution_count": 8,
     "metadata": {},
     "output_type": "execute_result"
    }
   ],
   "source": [
    "table = str.maketrans(string.punctuation, ' '*len(string.punctuation))\n",
    "sentence.translate(table).lower()"
   ]
  },
  {
   "cell_type": "code",
   "execution_count": null,
   "metadata": {},
   "outputs": [],
   "source": []
  }
 ],
 "metadata": {
  "kernelspec": {
   "display_name": "Python 3",
   "language": "python",
   "name": "python3"
  },
  "language_info": {
   "codemirror_mode": {
    "name": "ipython",
    "version": 3
   },
   "file_extension": ".py",
   "mimetype": "text/x-python",
   "name": "python",
   "nbconvert_exporter": "python",
   "pygments_lexer": "ipython3",
   "version": "3.7.1"
  }
 },
 "nbformat": 4,
 "nbformat_minor": 2
}
